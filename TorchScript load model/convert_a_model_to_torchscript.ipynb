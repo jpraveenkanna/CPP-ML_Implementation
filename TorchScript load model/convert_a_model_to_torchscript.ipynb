{
  "nbformat": 4,
  "nbformat_minor": 0,
  "metadata": {
    "colab": {
      "name": "convert a model to torchscript.ipynb",
      "provenance": []
    },
    "kernelspec": {
      "name": "python3",
      "display_name": "Python 3"
    }
  },
  "cells": [
    {
      "cell_type": "code",
      "metadata": {
        "id": "3JccS8vO5hsa"
      },
      "source": [
        "import torch\n",
        "import torchvision"
      ],
      "execution_count": 2,
      "outputs": []
    },
    {
      "cell_type": "code",
      "metadata": {
        "id": "nuIL8NGN5qxv"
      },
      "source": [
        "model=torchvision.models.resnet18()"
      ],
      "execution_count": 3,
      "outputs": []
    },
    {
      "cell_type": "code",
      "metadata": {
        "colab": {
          "base_uri": "https://localhost:8080/"
        },
        "id": "oButTxJ3532E",
        "outputId": "5c833c0e-777d-485d-9e70-7b5fb55ef506"
      },
      "source": [
        "sampleInput = torch.rand(1,3,224,224)\n",
        "sampleInput"
      ],
      "execution_count": 4,
      "outputs": [
        {
          "output_type": "execute_result",
          "data": {
            "text/plain": [
              "tensor([[[[0.6946, 0.6617, 0.6700,  ..., 0.5488, 0.3257, 0.9250],\n",
              "          [0.9762, 0.4905, 0.7603,  ..., 0.2380, 0.7909, 0.5257],\n",
              "          [0.3631, 0.5399, 0.6711,  ..., 0.1011, 0.0044, 0.5177],\n",
              "          ...,\n",
              "          [0.1054, 0.0595, 0.5289,  ..., 0.3410, 0.3226, 0.1598],\n",
              "          [0.6400, 0.7482, 0.2336,  ..., 0.0183, 0.8143, 0.1210],\n",
              "          [0.0054, 0.4568, 0.6389,  ..., 0.9929, 0.6985, 0.3866]],\n",
              "\n",
              "         [[0.1907, 0.2829, 0.3029,  ..., 0.8375, 0.6643, 0.8540],\n",
              "          [0.3330, 0.4983, 0.4220,  ..., 0.1478, 0.1937, 0.9216],\n",
              "          [0.5571, 0.0345, 0.1717,  ..., 0.1359, 0.2436, 0.2767],\n",
              "          ...,\n",
              "          [0.1306, 0.3716, 0.2440,  ..., 0.9779, 0.8455, 0.1033],\n",
              "          [0.2312, 0.3883, 0.4063,  ..., 0.4791, 0.0296, 0.7174],\n",
              "          [0.9546, 0.9518, 0.5702,  ..., 0.7221, 0.9265, 0.0069]],\n",
              "\n",
              "         [[0.7391, 0.6948, 0.7649,  ..., 0.1724, 0.0240, 0.7583],\n",
              "          [0.8221, 0.2961, 0.2035,  ..., 0.8712, 0.5510, 0.5156],\n",
              "          [0.2079, 0.5936, 0.8634,  ..., 0.3987, 0.1007, 0.8799],\n",
              "          ...,\n",
              "          [0.2390, 0.7908, 0.7568,  ..., 0.1619, 0.6624, 0.6131],\n",
              "          [0.9092, 0.8309, 0.9555,  ..., 0.0469, 0.0806, 0.6267],\n",
              "          [0.5789, 0.1332, 0.3278,  ..., 0.2520, 0.2429, 0.3323]]]])"
            ]
          },
          "metadata": {
            "tags": []
          },
          "execution_count": 4
        }
      ]
    },
    {
      "cell_type": "code",
      "metadata": {
        "id": "a1pABTgC6wzd"
      },
      "source": [
        "torchscript = torch.jit.trace(model,sampleInput)"
      ],
      "execution_count": 9,
      "outputs": []
    },
    {
      "cell_type": "code",
      "metadata": {
        "colab": {
          "base_uri": "https://localhost:8080/"
        },
        "id": "EQ0RU0q17eC3",
        "outputId": "c2f9bbae-7c22-44ec-a4fe-51664cc11562"
      },
      "source": [
        "sampleOutput = torchscript(torch.ones(1,3,224,224))\n",
        "sampleOutput[0,:5]"
      ],
      "execution_count": 11,
      "outputs": [
        {
          "output_type": "execute_result",
          "data": {
            "text/plain": [
              "tensor([-0.1522,  0.1820,  0.2526,  0.2689, -0.7628], grad_fn=<SliceBackward>)"
            ]
          },
          "metadata": {
            "tags": []
          },
          "execution_count": 11
        }
      ]
    },
    {
      "cell_type": "code",
      "metadata": {
        "id": "JtWOrljb7zh5"
      },
      "source": [
        "torchscript.save(\"model.pt\")"
      ],
      "execution_count": 12,
      "outputs": []
    },
    {
      "cell_type": "code",
      "metadata": {
        "id": "2ZTaTJg_8M1a"
      },
      "source": [
        ""
      ],
      "execution_count": null,
      "outputs": []
    }
  ]
}