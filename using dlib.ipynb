{
 "cells": [
  {
   "cell_type": "code",
   "execution_count": 1,
   "metadata": {},
   "outputs": [],
   "source": [
    "//#pragma cling add_library_path(\"/usr/local/lib/\")"
   ]
  },
  {
   "cell_type": "code",
   "execution_count": 2,
   "metadata": {},
   "outputs": [],
   "source": [
    "#pragma cling add_include_path(\"/usr/local/include/\")"
   ]
  },
  {
   "cell_type": "code",
   "execution_count": 3,
   "metadata": {},
   "outputs": [],
   "source": [
    "#pragma cling load(\"/usr/local/lib/libdlib.so\")"
   ]
  },
  {
   "cell_type": "code",
   "execution_count": 4,
   "metadata": {},
   "outputs": [],
   "source": [
    "#include <dlib/matrix.h>"
   ]
  },
  {
   "cell_type": "code",
   "execution_count": 5,
   "metadata": {},
   "outputs": [],
   "source": [
    "using namespace dlib;"
   ]
  },
  {
   "cell_type": "code",
   "execution_count": 6,
   "metadata": {},
   "outputs": [],
   "source": [
    "matrix<double> data;"
   ]
  },
  {
   "cell_type": "code",
   "execution_count": 7,
   "metadata": {},
   "outputs": [],
   "source": [
    "std::ifstream file(\"test.csv\");"
   ]
  },
  {
   "cell_type": "code",
   "execution_count": 8,
   "metadata": {},
   "outputs": [],
   "source": [
    "file >> data;"
   ]
  },
  {
   "cell_type": "code",
   "execution_count": 9,
   "metadata": {},
   "outputs": [
    {
     "name": "stdout",
     "output_type": "stream",
     "text": [
      "   1    2    3    4 \n",
      "  11   22  222 2222 \n",
      "\n"
     ]
    }
   ],
   "source": [
    "std::cout << data << std::endl;"
   ]
  },
  {
   "cell_type": "code",
   "execution_count": null,
   "metadata": {},
   "outputs": [],
   "source": []
  },
  {
   "cell_type": "code",
   "execution_count": 10,
   "metadata": {},
   "outputs": [
    {
     "name": "stdout",
     "output_type": "stream",
     "text": [
      "0 0 0 \n",
      "0 0 0 \n",
      "0 0 0 \n",
      "\n"
     ]
    }
   ],
   "source": [
    "//create a matrix sized at compile time\n",
    "matrix<double,3,3> y;\n",
    "std::cout << y << std::endl;"
   ]
  },
  {
   "cell_type": "code",
   "execution_count": 11,
   "metadata": {},
   "outputs": [
    {
     "name": "stdout",
     "output_type": "stream",
     "text": [
      "4.65758e-310            0 \n",
      "4.65758e-310 4.65758e-310 \n",
      "4.65758e-310 4.65758e-310 \n",
      "\n"
     ]
    }
   ],
   "source": [
    "//create dynamically sized matrix objects. pass the matrix dimensions to the constructor\n",
    "matrix<double> m(3,2);\n",
    "std::cout << m << std::endl;"
   ]
  },
  {
   "cell_type": "code",
   "execution_count": 12,
   "metadata": {},
   "outputs": [
    {
     "name": "stdout",
     "output_type": "stream",
     "text": [
      "4.65758e-310            0 4.65757e-310 4.65758e-310 4.65758e-310 4.65757e-310 \n",
      "4.65758e-310 4.65758e-310 4.65757e-310 4.65758e-310 4.65758e-310 4.65757e-310 \n",
      "4.65758e-310 4.65758e-310 4.65757e-310 4.65758e-310 4.65758e-310 4.65757e-310 \n",
      "4.65758e-310 4.65758e-310 4.65757e-310 4.65758e-310 4.65758e-310 4.65757e-310 \n",
      "4.65758e-310 4.65758e-310 4.65757e-310 4.65758e-310 4.65758e-310 4.65757e-310 \n",
      "4.65758e-310 4.65758e-310 4.65757e-310 4.65757e-310 4.65758e-310 6.95135e-310 \n",
      "\n"
     ]
    }
   ],
   "source": [
    "//change the size of this matrix\n",
    "m.set_size(6,6);\n",
    "std::cout << m << std::endl;"
   ]
  },
  {
   "cell_type": "code",
   "execution_count": 13,
   "metadata": {},
   "outputs": [
    {
     "name": "stdout",
     "output_type": "stream",
     "text": [
      "54.2  7.4 12.1 \n",
      "   1    2    3 \n",
      " 5.9 0.05    1 \n",
      "\n"
     ]
    }
   ],
   "source": [
    "//initialize matrix values with a comma operator\n",
    "m.set_size(3,3);\n",
    "m = 54.2,7.4,12.1,\n",
    "    1,2,3,\n",
    "    5.9,0.05,1;\n",
    "std::cout << m << std::endl;"
   ]
  },
  {
   "cell_type": "code",
   "execution_count": 14,
   "metadata": {},
   "outputs": [
    {
     "name": "stdout",
     "output_type": "stream",
     "text": [
      "1 2 3 \n",
      "4 5 6 \n",
      "\n"
     ]
    }
   ],
   "source": [
    "double data[] = {1,2,3,4,5,6};\n",
    "auto a = dlib::mat(data, 2,3); // create matrix with size 2x3\n",
    "std::cout << a << std::endl;"
   ]
  },
  {
   "cell_type": "code",
   "execution_count": 15,
   "metadata": {},
   "outputs": [
    {
     "name": "stdout",
     "output_type": "stream",
     "text": [
      "54.2  7.4 12.1 \n",
      "   1    2    3 \n",
      " 5.9 0.05    1 \n",
      "\n"
     ]
    }
   ],
   "source": [
    "//access matrix elements with the () operator to modify or get a particular value, \n",
    "m(1,2) = 3;\n",
    "std::cout << m << std::endl;"
   ]
  },
  {
   "cell_type": "code",
   "execution_count": 16,
   "metadata": {},
   "outputs": [
    {
     "name": "stdout",
     "output_type": "stream",
     "text": [
      "1 0 0 \n",
      "0 1 0 \n",
      "0 0 1 \n",
      "\n",
      "1 1 1 1 \n",
      "1 1 1 1 \n",
      "1 1 1 1 \n",
      "\n",
      "0.868944 0.696485 0.282641 0.328646 \n",
      "0.689822 0.493706 0.323237 0.173569 \n",
      "0.230328 0.514833 0.695491 0.978797 \n",
      "\n"
     ]
    }
   ],
   "source": [
    "//initialize a matrix with values such as identity matrix, 1s, or random values\n",
    "auto a = identity_matrix<double>(3);\n",
    "auto b = ones_matrix<double>(3,4);\n",
    "auto c = randm(3,4); // matrix with random values with size 3x3\n",
    "std::cout << a << std::endl;\n",
    "std::cout << b << std::endl;\n",
    "std::cout << c << std::endl;"
   ]
  },
  {
   "cell_type": "code",
   "execution_count": 17,
   "metadata": {},
   "outputs": [
    {
     "name": "stdout",
     "output_type": "stream",
     "text": [
      "2 1 1 1 \n",
      "1 2 1 1 \n",
      "1 1 2 1 \n",
      "\n"
     ]
    }
   ],
   "source": [
    "auto c = a + b;\n",
    "std::cout << c << std::endl;"
   ]
  },
  {
   "cell_type": "code",
   "execution_count": 18,
   "metadata": {},
   "outputs": [
    {
     "name": "stdout",
     "output_type": "stream",
     "text": [
      "1 0 0 \n",
      "0 1 0 \n",
      "0 0 1 \n",
      "\n"
     ]
    }
   ],
   "source": [
    "auto d  = dlib::pointwise_multiply(a, b);\n",
    "std::cout << d << std::endl;"
   ]
  },
  {
   "cell_type": "code",
   "execution_count": 19,
   "metadata": {},
   "outputs": [
    {
     "name": "stdout",
     "output_type": "stream",
     "text": [
      "1 1 1 1 \n",
      "1 1 1 1 \n",
      "1 1 1 1 \n",
      "\n"
     ]
    }
   ],
   "source": [
    "auto e = a * b; // real matrix multiplication\n",
    "std::cout << e << std::endl;"
   ]
  },
  {
   "cell_type": "code",
   "execution_count": 20,
   "metadata": {},
   "outputs": [],
   "source": [
    "//a += 5;\n",
    "//std::cout << a << std::endl;"
   ]
  },
  {
   "cell_type": "code",
   "execution_count": 21,
   "metadata": {},
   "outputs": [
    {
     "data": {
      "text/plain": [
       "{ 2.0000000, 1.0000000, 1.0000000, 1.0000000, 2.0000000, 1.0000000, 1.0000000, 1.0000000, 2.0000000, 1.0000000, 1.0000000, 1.0000000 }"
      ]
     },
     "execution_count": 21,
     "metadata": {},
     "output_type": "execute_result"
    }
   ],
   "source": [
    "trans(c); // transpose matrix\n"
   ]
  },
  {
   "cell_type": "code",
   "execution_count": 22,
   "metadata": {},
   "outputs": [
    {
     "data": {
      "text/plain": [
       "{ 2.0000000, 1.0000000, 1.0000000, 1.0000000 }"
      ]
     },
     "execution_count": 22,
     "metadata": {},
     "output_type": "execute_result"
    }
   ],
   "source": [
    "rowm(c,0);// takes first row of matrix"
   ]
  },
  {
   "cell_type": "code",
   "execution_count": 23,
   "metadata": {},
   "outputs": [
    {
     "data": {
      "text/plain": [
       "{ 2.0000000, 1.0000000, 1.0000000 }"
      ]
     },
     "execution_count": 23,
     "metadata": {},
     "output_type": "execute_result"
    }
   ],
   "source": [
    "colm(c,0); // takes first column"
   ]
  },
  {
   "cell_type": "code",
   "execution_count": null,
   "metadata": {},
   "outputs": [],
   "source": [
    "a = dlib::rowm(b,0); // takes first row of matrix\n",
    "a = dlib::rowm(b,dlib::range(0,1));//takes first two rows\n",
    "a = dlib::colm(b,0); // takes first column\n",
    "a = dlib::subm(b, range(1,2), range(1,2)); // takes a rectangular part from center\n",
    "dlib::set_subm(b,range(0,1), range(0,1)) = 7; // initialize part of the matrix\n",
    "dlib::set_subm(b,range(0,1), range(0,1)) += 7; // add a value to the part of the matrix"
   ]
  },
  {
   "cell_type": "code",
   "execution_count": null,
   "metadata": {},
   "outputs": [],
   "source": [
    "//Broadcasting in the Dlib library can be modeled with  set_rowm(), set_colm(), and set_subm() \n",
    "dlib::set_subm(c,range(0,1), range(0,1)) = 7; // initialize part of the matrix"
   ]
  },
  {
   "cell_type": "code",
   "execution_count": null,
   "metadata": {},
   "outputs": [],
   "source": []
  },
  {
   "cell_type": "code",
   "execution_count": null,
   "metadata": {},
   "outputs": [],
   "source": []
  },
  {
   "cell_type": "code",
   "execution_count": null,
   "metadata": {},
   "outputs": [],
   "source": []
  },
  {
   "cell_type": "code",
   "execution_count": null,
   "metadata": {},
   "outputs": [],
   "source": []
  },
  {
   "cell_type": "code",
   "execution_count": null,
   "metadata": {},
   "outputs": [],
   "source": [
    "rowm(c,dlib::range(0,1)); //takes first two rows"
   ]
  },
  {
   "cell_type": "code",
   "execution_count": null,
   "metadata": {},
   "outputs": [],
   "source": [
    "dlib::subm(b, range(1,2), range(1,2)); // takes a rectangular part from center"
   ]
  },
  {
   "cell_type": "code",
   "execution_count": null,
   "metadata": {},
   "outputs": [],
   "source": [
    "dlib::set_subm(b,range(0,1), range(0,1)) = 7; // initialize part of the matrix"
   ]
  },
  {
   "cell_type": "code",
   "execution_count": null,
   "metadata": {},
   "outputs": [],
   "source": [
    "\n",
    "dlib::set_subm(b,range(0,1), range(0,1)) += 7; // add a value to the part of the matrix"
   ]
  },
  {
   "cell_type": "code",
   "execution_count": null,
   "metadata": {},
   "outputs": [],
   "source": []
  },
  {
   "cell_type": "code",
   "execution_count": null,
   "metadata": {},
   "outputs": [],
   "source": []
  },
  {
   "cell_type": "code",
   "execution_count": null,
   "metadata": {},
   "outputs": [],
   "source": []
  },
  {
   "cell_type": "code",
   "execution_count": null,
   "metadata": {},
   "outputs": [],
   "source": []
  },
  {
   "cell_type": "code",
   "execution_count": null,
   "metadata": {},
   "outputs": [],
   "source": []
  }
 ],
 "metadata": {
  "kernelspec": {
   "display_name": "C++17",
   "language": "C++17",
   "name": "xcpp17"
  },
  "language_info": {
   "codemirror_mode": "text/x-c++src",
   "file_extension": ".cpp",
   "mimetype": "text/x-c++src",
   "name": "c++",
   "version": "17"
  }
 },
 "nbformat": 4,
 "nbformat_minor": 4
}
